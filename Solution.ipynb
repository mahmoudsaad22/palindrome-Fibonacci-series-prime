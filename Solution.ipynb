{
 "cells": [
  {
   "cell_type": "code",
   "execution_count": 3,
   "metadata": {},
   "outputs": [
    {
     "name": "stdout",
     "output_type": "stream",
     "text": [
      "enter sequenceeve\n",
      "palidrome\n"
     ]
    }
   ],
   "source": [
    "## Plaindrome or not\n",
    "a = input('enter sequence')\n",
    "b = a[:: -1]\n",
    "if a == b :\n",
    "    print('palidrome')\n",
    "else :\n",
    "    print('not palidrom')"
   ]
  },
  {
   "cell_type": "code",
   "execution_count": 6,
   "metadata": {},
   "outputs": [
    {
     "name": "stdout",
     "output_type": "stream",
     "text": [
      "enter the number12\n",
      "not prime\n"
     ]
    }
   ],
   "source": [
    "#prime number\n",
    "a = int(input('enter the number'))\n",
    "if a > 1 :\n",
    "    for x in range(2,a) :\n",
    "        if (a % x) == 0 :\n",
    "            print('not prime')\n",
    "            break\n",
    "        else :\n",
    "            print('prime')\n",
    "            break"
   ]
  },
  {
   "cell_type": "code",
   "execution_count": 11,
   "metadata": {},
   "outputs": [
    {
     "name": "stdout",
     "output_type": "stream",
     "text": [
      "enter the terms7\n",
      "0 1 1 2 3 5 8 "
     ]
    }
   ],
   "source": [
    "#fibonacci series\n",
    "#0112358\n",
    "#The next() function returns the next item in an iterator. You can add a default return value, to return if the iterable has reached to its end.\n",
    "\n",
    "a = int(input('enter the terms'))\n",
    "f = 0\n",
    "s = 1\n",
    "if a <= 0 :\n",
    "    print('the series is \\n',f)\n",
    "else:\n",
    "    print(f,s,end=\" \")\n",
    "    for x in range (2,a):\n",
    "        next = f+s\n",
    "        print(next,end=\" \")\n",
    "        f=s\n",
    "        s=next"
   ]
  },
  {
   "cell_type": "code",
   "execution_count": 13,
   "metadata": {},
   "outputs": [
    {
     "name": "stdout",
     "output_type": "stream",
     "text": [
      "enter the number of rows: 4\n",
      "1 \n",
      "1 2 \n",
      "1 2 3 \n",
      "1 2 3 4 \n"
     ]
    }
   ],
   "source": [
    "#pattern program \n",
    "n = int(input('enter the number of rows: '))\n",
    "for i in range (1 , n+1):\n",
    "    for j in range (1,i+1):\n",
    "        print(j,end = \" \")\n",
    "    print()"
   ]
  },
  {
   "cell_type": "code",
   "execution_count": 14,
   "metadata": {},
   "outputs": [
    {
     "name": "stdout",
     "output_type": "stream",
     "text": [
      "enter the number of rows: 4\n",
      "1 \n",
      "2 2 \n",
      "3 3 3 \n",
      "4 4 4 4 \n"
     ]
    }
   ],
   "source": [
    "n = int(input('enter the number of rows: '))\n",
    "for i in range (1 , n+1):\n",
    "    for j in range (1,i+1):\n",
    "        print(i,end = \" \")\n",
    "    print()"
   ]
  },
  {
   "cell_type": "code",
   "execution_count": 15,
   "metadata": {},
   "outputs": [
    {
     "name": "stdout",
     "output_type": "stream",
     "text": [
      "please enter the first no and the last one\n",
      "enter the first no2\n",
      "enter the last no5\n",
      "2 x 1 = 2\n",
      "2 x 2 = 4\n",
      "2 x 3 = 6\n",
      "2 x 4 = 8\n",
      "2 x 5 = 10\n",
      "2 x 6 = 12\n",
      "2 x 7 = 14\n",
      "2 x 8 = 16\n",
      "2 x 9 = 18\n",
      "2 x 10 = 20\n",
      "2 x 11 = 22\n",
      "2 x 12 = 24\n",
      "--------\n",
      "3 x 1 = 3\n",
      "3 x 2 = 6\n",
      "3 x 3 = 9\n",
      "3 x 4 = 12\n",
      "3 x 5 = 15\n",
      "3 x 6 = 18\n",
      "3 x 7 = 21\n",
      "3 x 8 = 24\n",
      "3 x 9 = 27\n",
      "3 x 10 = 30\n",
      "3 x 11 = 33\n",
      "3 x 12 = 36\n",
      "--------\n",
      "4 x 1 = 4\n",
      "4 x 2 = 8\n",
      "4 x 3 = 12\n",
      "4 x 4 = 16\n",
      "4 x 5 = 20\n",
      "4 x 6 = 24\n",
      "4 x 7 = 28\n",
      "4 x 8 = 32\n",
      "4 x 9 = 36\n",
      "4 x 10 = 40\n",
      "4 x 11 = 44\n",
      "4 x 12 = 48\n",
      "--------\n",
      "5 x 1 = 5\n",
      "5 x 2 = 10\n",
      "5 x 3 = 15\n",
      "5 x 4 = 20\n",
      "5 x 5 = 25\n",
      "5 x 6 = 30\n",
      "5 x 7 = 35\n",
      "5 x 8 = 40\n",
      "5 x 9 = 45\n",
      "5 x 10 = 50\n",
      "5 x 11 = 55\n",
      "5 x 12 = 60\n",
      "--------\n"
     ]
    }
   ],
   "source": [
    "#Multiplication app\n",
    "print('please enter the first no and the last one')\n",
    "s = int(input('enter the first no'))\n",
    "e = int(input('enter the last no'))\n",
    "for x in range(s,e+1):\n",
    "    for y in range(1,13):\n",
    "        print(x,'x',y,'=', x * y)\n",
    "    print('--------')"
   ]
  },
  {
   "cell_type": "code",
   "execution_count": null,
   "metadata": {},
   "outputs": [],
   "source": []
  }
 ],
 "metadata": {
  "kernelspec": {
   "display_name": "Python 3",
   "language": "python",
   "name": "python3"
  },
  "language_info": {
   "codemirror_mode": {
    "name": "ipython",
    "version": 3
   },
   "file_extension": ".py",
   "mimetype": "text/x-python",
   "name": "python",
   "nbconvert_exporter": "python",
   "pygments_lexer": "ipython3",
   "version": "3.6.8"
  }
 },
 "nbformat": 4,
 "nbformat_minor": 2
}
